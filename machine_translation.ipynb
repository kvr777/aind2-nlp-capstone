{
 "cells": [
  {
   "cell_type": "markdown",
   "metadata": {
    "collapsed": true
   },
   "source": [
    "# Artificial Intelligence Nanodegree\n",
    "## Machine Translation Project\n",
    "In this notebook, sections that end with **'(IMPLEMENTATION)'** in the header indicate that the following blocks of code will require additional functionality which you must provide. Please be sure to read the instructions carefully!\n",
    "\n",
    "## Introduction\n",
    "In this notebook, you will build a deep neural network that functions as part of an end-to-end machine translation pipeline. Your completed pipeline will accept English text as input and return the French translation.\n",
    "\n",
    "- **Preprocess** - You'll convert text to sequence of integers.\n",
    "- **Models** Create models which accepts a sequence of integers as input and returns a probability distribution over possible translations. After learning about the basic types of neural networks that are often used for machine translation, you will engage in your own investigations, to design your own model!\n",
    "- **Prediction** Run the model on English text.\n",
    "\n",
    "## Dataset\n",
    "We begin by investigating the dataset that will be used to train and evaluate your pipeline.  The most common datasets used for machine translation are from [WMT](http://www.statmt.org/).  However, that will take a long time to train a neural network on.  We'll be using a dataset we created for this project that contains a small vocabulary.  You'll be able to train your model in a reasonable time with this dataset.\n",
    "### Load Data\n",
    "The data is located in `data/small_vocab_en` and `data/small_vocab_fr`. The `small_vocab_en` file contains English sentences with their French translations in the `small_vocab_fr` file. Load the English and French data from these files from running the cell below."
   ]
  },
  {
   "cell_type": "code",
   "execution_count": 1,
   "metadata": {},
   "outputs": [
    {
     "name": "stdout",
     "output_type": "stream",
     "text": [
      "Dataset Loaded\n"
     ]
    }
   ],
   "source": [
    "import helper\n",
    "\n",
    "\n",
    "# Load English data\n",
    "english_sentences = helper.load_data('data/small_vocab_en')\n",
    "# Load French data\n",
    "french_sentences = helper.load_data('data/small_vocab_fr')\n",
    "\n",
    "print('Dataset Loaded')"
   ]
  },
  {
   "cell_type": "markdown",
   "metadata": {},
   "source": [
    "### Files\n",
    "Each line in `small_vocab_en` contains an English sentence with the respective translation in each line of `small_vocab_fr`.  View the first two lines from each file."
   ]
  },
  {
   "cell_type": "code",
   "execution_count": 2,
   "metadata": {},
   "outputs": [
    {
     "name": "stdout",
     "output_type": "stream",
     "text": [
      "small_vocab_en Line 1:  new jersey is sometimes quiet during autumn , and it is snowy in april .\n",
      "small_vocab_fr Line 1:  new jersey est parfois calme pendant l' automne , et il est neigeux en avril .\n",
      "small_vocab_en Line 2:  the united states is usually chilly during july , and it is usually freezing in november .\n",
      "small_vocab_fr Line 2:  les états-unis est généralement froid en juillet , et il gèle habituellement en novembre .\n"
     ]
    }
   ],
   "source": [
    "for sample_i in range(2):\n",
    "    print('small_vocab_en Line {}:  {}'.format(sample_i + 1, english_sentences[sample_i]))\n",
    "    print('small_vocab_fr Line {}:  {}'.format(sample_i + 1, french_sentences[sample_i]))"
   ]
  },
  {
   "cell_type": "markdown",
   "metadata": {},
   "source": [
    "From looking at the sentences, you can see they have been preprocessed already.  The puncuations have been delimited using spaces. All the text have been converted to lowercase.  This should save you some time, but the text requires more preprocessing.\n",
    "### Vocabulary\n",
    "The complexity of the problem is determined by the complexity of the vocabulary.  A more complex vocabulary is a more complex problem.  Let's look at the complexity of the dataset we'll be working with."
   ]
  },
  {
   "cell_type": "code",
   "execution_count": 3,
   "metadata": {},
   "outputs": [
    {
     "name": "stdout",
     "output_type": "stream",
     "text": [
      "1823250 English words.\n",
      "227 unique English words.\n",
      "10 Most common words in the English dataset:\n",
      "\"is\" \",\" \".\" \"in\" \"it\" \"during\" \"the\" \"but\" \"and\" \"sometimes\"\n",
      "\n",
      "1961295 French words.\n",
      "355 unique French words.\n",
      "10 Most common words in the French dataset:\n",
      "\"est\" \".\" \",\" \"en\" \"il\" \"les\" \"mais\" \"et\" \"la\" \"parfois\"\n"
     ]
    }
   ],
   "source": [
    "import collections\n",
    "\n",
    "\n",
    "english_words_counter = collections.Counter([word for sentence in english_sentences for word in sentence.split()])\n",
    "french_words_counter = collections.Counter([word for sentence in french_sentences for word in sentence.split()])\n",
    "\n",
    "print('{} English words.'.format(len([word for sentence in english_sentences for word in sentence.split()])))\n",
    "print('{} unique English words.'.format(len(english_words_counter)))\n",
    "print('10 Most common words in the English dataset:')\n",
    "print('\"' + '\" \"'.join(list(zip(*english_words_counter.most_common(10)))[0]) + '\"')\n",
    "print()\n",
    "print('{} French words.'.format(len([word for sentence in french_sentences for word in sentence.split()])))\n",
    "print('{} unique French words.'.format(len(french_words_counter)))\n",
    "print('10 Most common words in the French dataset:')\n",
    "print('\"' + '\" \"'.join(list(zip(*french_words_counter.most_common(10)))[0]) + '\"')"
   ]
  },
  {
   "cell_type": "markdown",
   "metadata": {},
   "source": [
    "For comparison, _Alice's Adventures in Wonderland_ contains 2,766 unique words of a total of 15,500 words.\n",
    "## Preprocess\n",
    "For this project, you won't use text data as input to your model. Instead, you'll convert the text into sequences of integers using the following preprocess methods:\n",
    "1. Tokenize the words into ids\n",
    "2. Add padding to make all the sequences the same length.\n",
    "\n",
    "Time to start preprocessing the data...\n",
    "### Tokenize (IMPLEMENTATION)\n",
    "For a neural network to predict on text data, it first has to be turned into data it can understand. Text data like \"dog\" is a sequence of ASCII character encodings.  Since a neural network is a series of multiplication and addition operations, the input data needs to be number(s).\n",
    "\n",
    "We can turn each character into a number or each word into a number.  These are called character and word ids, respectively.  Character ids are used for character level models that generate text predictions for each character.  A word level model uses word ids that generate text predictions for each word.  Word level models tend to learn better, since they are lower in complexity, so we'll use those.\n",
    "\n",
    "Turn each sentence into a sequence of words ids using Keras's [`Tokenizer`](https://keras.io/preprocessing/text/#tokenizer) function. Use this function to tokenize `english_sentences` and `french_sentences` in the cell below.\n",
    "\n",
    "Running the cell will run `tokenize` on sample data and show output for debugging."
   ]
  },
  {
   "cell_type": "code",
   "execution_count": 4,
   "metadata": {},
   "outputs": [
    {
     "name": "stderr",
     "output_type": "stream",
     "text": [
      "Using TensorFlow backend.\n"
     ]
    },
    {
     "name": "stdout",
     "output_type": "stream",
     "text": [
      "{'the': 1, 'quick': 2, 'a': 3, 'brown': 4, 'fox': 5, 'jumps': 6, 'over': 7, 'lazy': 8, 'dog': 9, 'by': 10, 'jove': 11, 'my': 12, 'study': 13, 'of': 14, 'lexicography': 15, 'won': 16, 'prize': 17, 'this': 18, 'is': 19, 'short': 20, 'sentence': 21}\n",
      "\n",
      "Sequence 1 in x\n",
      "  Input:  The quick brown fox jumps over the lazy dog .\n",
      "  Output: [1, 2, 4, 5, 6, 7, 1, 8, 9]\n",
      "Sequence 2 in x\n",
      "  Input:  By Jove , my quick study of lexicography won a prize .\n",
      "  Output: [10, 11, 12, 2, 13, 14, 15, 16, 3, 17]\n",
      "Sequence 3 in x\n",
      "  Input:  This is a short sentence .\n",
      "  Output: [18, 19, 3, 20, 21]\n"
     ]
    }
   ],
   "source": [
    "import project_tests as tests\n",
    "from keras.preprocessing.text import Tokenizer\n",
    "\n",
    "\n",
    "def tokenize(x):\n",
    "    \"\"\"\n",
    "    Tokenize x\n",
    "    :param x: List of sentences/strings to be tokenized\n",
    "    :return: Tuple of (tokenized x data, tokenizer used to tokenize x)\n",
    "    \"\"\"\n",
    "    # TODO: Implement\n",
    "    tokenizer = Tokenizer()\n",
    "    tokenizer.fit_on_texts(x)\n",
    "    return tokenizer.texts_to_sequences(x), tokenizer\n",
    "tests.test_tokenize(tokenize)\n",
    "\n",
    "# Tokenize Example output\n",
    "text_sentences = [\n",
    "    'The quick brown fox jumps over the lazy dog .',\n",
    "    'By Jove , my quick study of lexicography won a prize .',\n",
    "    'This is a short sentence .']\n",
    "text_tokenized, text_tokenizer = tokenize(text_sentences)\n",
    "print(text_tokenizer.word_index)\n",
    "print()\n",
    "for sample_i, (sent, token_sent) in enumerate(zip(text_sentences, text_tokenized)):\n",
    "    print('Sequence {} in x'.format(sample_i + 1))\n",
    "    print('  Input:  {}'.format(sent))\n",
    "    print('  Output: {}'.format(token_sent))"
   ]
  },
  {
   "cell_type": "markdown",
   "metadata": {},
   "source": [
    "### Padding (IMPLEMENTATION)\n",
    "When batching the sequence of word ids together, each sequence needs to be the same length.  Since sentences are dynamic in length, we can add padding to the end of the sequences to make them the same length.\n",
    "\n",
    "Make sure all the English sequences have the same length and all the French sequences have the same length by adding padding to the **end** of each sequence using Keras's [`pad_sequences`](https://keras.io/preprocessing/sequence/#pad_sequences) function."
   ]
  },
  {
   "cell_type": "code",
   "execution_count": 5,
   "metadata": {},
   "outputs": [
    {
     "name": "stdout",
     "output_type": "stream",
     "text": [
      "Sequence 1 in x\n",
      "  Input:  [1 2 4 5 6 7 1 8 9]\n",
      "  Output: [1 2 4 5 6 7 1 8 9 0]\n",
      "Sequence 2 in x\n",
      "  Input:  [10 11 12  2 13 14 15 16  3 17]\n",
      "  Output: [10 11 12  2 13 14 15 16  3 17]\n",
      "Sequence 3 in x\n",
      "  Input:  [18 19  3 20 21]\n",
      "  Output: [18 19  3 20 21  0  0  0  0  0]\n"
     ]
    }
   ],
   "source": [
    "import numpy as np\n",
    "from keras.preprocessing.sequence import pad_sequences\n",
    "\n",
    "\n",
    "def pad(x, length=None):\n",
    "    \"\"\"\n",
    "    Pad x\n",
    "    :param x: List of sequences.\n",
    "    :param length: Length to pad the sequence to.  If None, use length of longest sequence in x.\n",
    "    :return: Padded numpy array of sequences\n",
    "    \"\"\"\n",
    "    # TODO: Implement\n",
    "\n",
    "    return pad_sequences (x, maxlen = length, padding = 'post')\n",
    "tests.test_pad(pad)\n",
    "\n",
    "# Pad Tokenized output\n",
    "test_pad = pad(text_tokenized)\n",
    "for sample_i, (token_sent, pad_sent) in enumerate(zip(text_tokenized, test_pad)):\n",
    "    print('Sequence {} in x'.format(sample_i + 1))\n",
    "    print('  Input:  {}'.format(np.array(token_sent)))\n",
    "    print('  Output: {}'.format(pad_sent))"
   ]
  },
  {
   "cell_type": "markdown",
   "metadata": {},
   "source": [
    "### Preprocess Pipeline\n",
    "Your focus for this project is to build neural network architecture, so we won't ask you to create a preprocess pipeline.  Instead, we've provided you with the implementation of the `preprocess` function."
   ]
  },
  {
   "cell_type": "code",
   "execution_count": 6,
   "metadata": {},
   "outputs": [
    {
     "name": "stdout",
     "output_type": "stream",
     "text": [
      "Data Preprocessed\n"
     ]
    }
   ],
   "source": [
    "def preprocess(x, y):\n",
    "    \"\"\"\n",
    "    Preprocess x and y\n",
    "    :param x: Feature List of sentences\n",
    "    :param y: Label List of sentences\n",
    "    :return: Tuple of (Preprocessed x, Preprocessed y, x tokenizer, y tokenizer)\n",
    "    \"\"\"\n",
    "    preprocess_x, x_tk = tokenize(x)\n",
    "    preprocess_y, y_tk = tokenize(y)\n",
    "\n",
    "    preprocess_x = pad(preprocess_x)\n",
    "    preprocess_y = pad(preprocess_y)\n",
    "\n",
    "    # Keras's sparse_categorical_crossentropy function requires the labels to be in 3 dimensions\n",
    "    preprocess_y = preprocess_y.reshape(*preprocess_y.shape, 1)\n",
    "\n",
    "    return preprocess_x, preprocess_y, x_tk, y_tk\n",
    "\n",
    "preproc_english_sentences, preproc_french_sentences, english_tokenizer, french_tokenizer =\\\n",
    "    preprocess(english_sentences, french_sentences)\n",
    "\n",
    "print('Data Preprocessed')"
   ]
  },
  {
   "cell_type": "markdown",
   "metadata": {},
   "source": [
    "## Models\n",
    "In this section, you will experiment with various neural network architectures.\n",
    "You will begin by training four relatively simple architectures.\n",
    "- Model 1 is a simple RNN\n",
    "- Model 2 is a RNN with Embedding\n",
    "- Model 3 is a Bidirectional RNN\n",
    "- Model 4 is an optional Encoder-Decoder RNN\n",
    "\n",
    "After experimenting with the four simple architectures, you will construct a deeper architecture that is designed to outperform all four models.\n",
    "### Ids Back to Text\n",
    "The neural network will be translating the input to words ids, which isn't the final form we want.  We want the French translation.  The function `logits_to_text` will bridge the gab between the logits from the neural network to the French translation.  You'll be using this function to better understand the output of the neural network."
   ]
  },
  {
   "cell_type": "code",
   "execution_count": 7,
   "metadata": {},
   "outputs": [
    {
     "name": "stdout",
     "output_type": "stream",
     "text": [
      "`logits_to_text` function loaded.\n"
     ]
    }
   ],
   "source": [
    "def logits_to_text(logits, tokenizer):\n",
    "    \"\"\"\n",
    "    Turn logits from a neural network into text using the tokenizer\n",
    "    :param logits: Logits from a neural network\n",
    "    :param tokenizer: Keras Tokenizer fit on the labels\n",
    "    :return: String that represents the text of the logits\n",
    "    \"\"\"\n",
    "    index_to_words = {id: word for word, id in tokenizer.word_index.items()}\n",
    "    index_to_words[0] = '<PAD>'\n",
    "\n",
    "    return ' '.join([index_to_words[prediction] for prediction in np.argmax(logits, 1)])\n",
    "\n",
    "print('`logits_to_text` function loaded.')"
   ]
  },
  {
   "cell_type": "markdown",
   "metadata": {},
   "source": [
    "### Model 1: RNN (IMPLEMENTATION)\n",
    "![RNN](images/rnn.png)\n",
    "A basic RNN model is a good baseline for sequence data.  In this model, you'll build a RNN that translates English to French."
   ]
  },
  {
   "cell_type": "code",
   "execution_count": 19,
   "metadata": {},
   "outputs": [
    {
     "name": "stdout",
     "output_type": "stream",
     "text": [
      "Train on 110288 samples, validate on 27573 samples\n",
      "Epoch 1/10\n",
      "110288/110288 [==============================] - 22s - loss: 2.4974 - acc: 0.4804 - val_loss: nan - val_acc: 0.5437\n",
      "Epoch 2/10\n",
      "110288/110288 [==============================] - 22s - loss: 1.9063 - acc: 0.5505 - val_loss: nan - val_acc: 0.5653\n",
      "Epoch 3/10\n",
      "110288/110288 [==============================] - 22s - loss: 1.8118 - acc: 0.5703 - val_loss: nan - val_acc: 0.5647\n",
      "Epoch 4/10\n",
      "110288/110288 [==============================] - 22s - loss: 1.7502 - acc: 0.5804 - val_loss: nan - val_acc: 0.5730\n",
      "Epoch 5/10\n",
      "110288/110288 [==============================] - 22s - loss: 1.6971 - acc: 0.5934 - val_loss: nan - val_acc: 0.5968\n",
      "Epoch 6/10\n",
      "110288/110288 [==============================] - 22s - loss: 1.8305 - acc: 0.5706 - val_loss: nan - val_acc: 0.5762\n",
      "Epoch 7/10\n",
      "110288/110288 [==============================] - 22s - loss: 1.7842 - acc: 0.5769 - val_loss: nan - val_acc: 0.5396\n",
      "Epoch 8/10\n",
      "110288/110288 [==============================] - 22s - loss: 1.7641 - acc: 0.5796 - val_loss: nan - val_acc: 0.5837\n",
      "Epoch 9/10\n",
      "110288/110288 [==============================] - 22s - loss: 1.7470 - acc: 0.5852 - val_loss: nan - val_acc: 0.5848\n",
      "Epoch 10/10\n",
      "110288/110288 [==============================] - 22s - loss: 1.7416 - acc: 0.5885 - val_loss: nan - val_acc: 0.5932\n",
      "new jersey est parfois est en en il il est est en en <PAD> <PAD> <PAD> <PAD> <PAD> <PAD> <PAD> <PAD>\n"
     ]
    }
   ],
   "source": [
    "from keras.layers import GRU, Input, Dense, TimeDistributed\n",
    "from keras.models import Model, Sequential\n",
    "from keras.layers import Activation\n",
    "from keras.optimizers import Adam\n",
    "from keras.losses import sparse_categorical_crossentropy\n",
    "\n",
    "\n",
    "def simple_model(input_shape, output_sequence_length, english_vocab_size, french_vocab_size):\n",
    "    \"\"\"\n",
    "    Build and train a basic RNN on x and y\n",
    "    :param input_shape: Tuple of input shape\n",
    "    :param output_sequence_length: Length of output sequence\n",
    "    :param english_vocab_size: Number of unique English words in the dataset\n",
    "    :param french_vocab_size: Number of unique French words in the dataset\n",
    "    :return: Keras model built, but not trained\n",
    "    \"\"\"\n",
    "    # TODO: Build the layers\n",
    "    learning_rate = 0.1\n",
    "    model = Sequential()\n",
    "    model.add(GRU(output_sequence_length, input_shape = input_shape[1:], return_sequences=True))\n",
    "    model.add(Activation('relu'))\n",
    "    model.add(GRU(english_vocab_size, return_sequences=True))\n",
    "    model.add(Activation('relu'))\n",
    "    model.add(TimeDistributed(Dense(french_vocab_size)))\n",
    "    model.add(Activation('softmax'))\n",
    "     \n",
    "    model.compile(loss=sparse_categorical_crossentropy,\n",
    "                  optimizer=Adam(learning_rate),\n",
    "                  metrics=['accuracy'])\n",
    "    return model\n",
    "tests.test_simple_model(simple_model)\n",
    "\n",
    "\n",
    "# Reshaping the input to work with a basic RNN\n",
    "tmp_x = pad(preproc_english_sentences, preproc_french_sentences.shape[1])\n",
    "tmp_x = tmp_x.reshape((-1, preproc_french_sentences.shape[-2], 1))\n",
    "\n",
    "# Train the neural network\n",
    "simple_rnn_model = simple_model(\n",
    "    tmp_x.shape,\n",
    "    preproc_french_sentences.shape[1],\n",
    "    len(english_tokenizer.word_index),\n",
    "    len(french_tokenizer.word_index))\n",
    "simple_rnn_model.fit(tmp_x, preproc_french_sentences, batch_size=1024, epochs=10, validation_split=0.2)\n",
    "\n",
    "# Print prediction(s)\n",
    "print(logits_to_text(simple_rnn_model.predict(tmp_x[:1])[0], french_tokenizer))"
   ]
  },
  {
   "cell_type": "markdown",
   "metadata": {},
   "source": [
    "### Model 2: Embedding (IMPLEMENTATION)\n",
    "![RNN](images/embedding.png)\n",
    "You've turned the words into ids, but there's a better representation of a word.  This is called word embeddings.  An embedding is a vector representation of the word that is close to similar words in n-dimensional space, where the n represents the size of the embedding vectors.\n",
    "\n",
    "In this model, you'll create a RNN model using embedding."
   ]
  },
  {
   "cell_type": "code",
   "execution_count": 16,
   "metadata": {},
   "outputs": [
    {
     "name": "stdout",
     "output_type": "stream",
     "text": [
      "_________________________________________________________________\n",
      "Layer (type)                 Output Shape              Param #   \n",
      "=================================================================\n",
      "embedding_13 (Embedding)     (None, 21, 30)            5970      \n",
      "_________________________________________________________________\n",
      "gru_13 (GRU)                 (None, 21, 21)            3276      \n",
      "_________________________________________________________________\n",
      "time_distributed_12 (TimeDis (None, 21, 344)           7568      \n",
      "=================================================================\n",
      "Total params: 16,814\n",
      "Trainable params: 16,814\n",
      "Non-trainable params: 0\n",
      "_________________________________________________________________\n",
      "_________________________________________________________________\n",
      "Layer (type)                 Output Shape              Param #   \n",
      "=================================================================\n",
      "embedding_14 (Embedding)     (None, 21, 30)            5970      \n",
      "_________________________________________________________________\n",
      "gru_14 (GRU)                 (None, 21, 21)            3276      \n",
      "_________________________________________________________________\n",
      "time_distributed_13 (TimeDis (None, 21, 344)           7568      \n",
      "=================================================================\n",
      "Total params: 16,814\n",
      "Trainable params: 16,814\n",
      "Non-trainable params: 0\n",
      "_________________________________________________________________\n",
      "Train on 110288 samples, validate on 27573 samples\n",
      "Epoch 1/10\n",
      "110288/110288 [==============================] - 9s - loss: 2.8558 - acc: 0.4637 - val_loss: nan - val_acc: 0.5963\n",
      "Epoch 2/10\n",
      "110288/110288 [==============================] - 9s - loss: 1.2734 - acc: 0.6679 - val_loss: nan - val_acc: 0.7230\n",
      "Epoch 3/10\n",
      "110288/110288 [==============================] - 9s - loss: 0.8572 - acc: 0.7546 - val_loss: nan - val_acc: 0.7751\n",
      "Epoch 4/10\n",
      "110288/110288 [==============================] - 9s - loss: 0.7091 - acc: 0.7941 - val_loss: nan - val_acc: 0.8079\n",
      "Epoch 5/10\n",
      "110288/110288 [==============================] - 9s - loss: 0.6353 - acc: 0.8136 - val_loss: nan - val_acc: 0.8184\n",
      "Epoch 6/10\n",
      "110288/110288 [==============================] - 9s - loss: 0.5944 - acc: 0.8226 - val_loss: nan - val_acc: 0.8275\n",
      "Epoch 7/10\n",
      "110288/110288 [==============================] - 9s - loss: 0.5625 - acc: 0.8315 - val_loss: nan - val_acc: 0.8358\n",
      "Epoch 8/10\n",
      "110288/110288 [==============================] - 9s - loss: 0.5394 - acc: 0.8393 - val_loss: nan - val_acc: 0.8436\n",
      "Epoch 9/10\n",
      "110288/110288 [==============================] - 9s - loss: 0.5194 - acc: 0.8460 - val_loss: nan - val_acc: 0.8485\n",
      "Epoch 10/10\n",
      "110288/110288 [==============================] - 9s - loss: 0.5042 - acc: 0.8509 - val_loss: nan - val_acc: 0.8515\n",
      "new jersey est parfois calme en l' de et il est est en en <PAD> <PAD> <PAD> <PAD> <PAD> <PAD> <PAD>\n"
     ]
    }
   ],
   "source": [
    "from keras.layers.embeddings import Embedding\n",
    "\n",
    "def embed_model(input_shape, output_sequence_length, english_vocab_size, french_vocab_size):\n",
    "    \"\"\"\n",
    "    Build and train a RNN model using word embedding on x and y\n",
    "    :param input_shape: Tuple of input shape\n",
    "    :param output_sequence_length: Length of output sequence\n",
    "    :param english_vocab_size: Number of unique English words in the dataset\n",
    "    :param french_vocab_size: Number of unique French words in the dataset\n",
    "    :return: Keras model built, but not trained\n",
    "    \"\"\"\n",
    "    # TODO: Implement\n",
    "    learning_rate = 0.01\n",
    "    embed_size = 30\n",
    "    \n",
    "    model = Sequential()\n",
    "    model.add(Embedding(english_vocab_size, embed_size, input_shape=input_shape[1:]))\n",
    "    model.add(GRU(output_sequence_length, return_sequences=True))\n",
    "    model.add(TimeDistributed(Dense(french_vocab_size, activation=\"softmax\")))\n",
    "    \n",
    "    model.compile(loss=sparse_categorical_crossentropy,\n",
    "                  optimizer=Adam(learning_rate),\n",
    "                  metrics=['accuracy'])\n",
    "    \n",
    "    model.summary()\n",
    "    return model\n",
    "tests.test_embed_model(embed_model)\n",
    "\n",
    "\n",
    "# TODO: Reshape the input\n",
    "tmp_x2 = pad(preproc_english_sentences, preproc_french_sentences.shape[1])\n",
    "\n",
    "# TODO: Train the neural network\n",
    "embedded_rnn_model = embed_model(\n",
    "    tmp_x2.shape,\n",
    "    preproc_french_sentences.shape[1],\n",
    "    len(english_tokenizer.word_index),\n",
    "    len(french_tokenizer.word_index))\n",
    "embedded_rnn_model.fit(tmp_x2, preproc_french_sentences, batch_size=1024, epochs=10, validation_split=0.2)\n",
    "\n",
    "# TODO: Print prediction(s)\n",
    "print(logits_to_text(embedded_rnn_model.predict(tmp_x2[:1])[0], french_tokenizer))"
   ]
  },
  {
   "cell_type": "markdown",
   "metadata": {},
   "source": [
    "### Model 3: Bidirectional RNNs (IMPLEMENTATION)\n",
    "![RNN](images/bidirectional.png)\n",
    "One restriction of a RNN is that it can't see the future input, only the past.  This is where bidirectional recurrent neural networks come in.  They are able to see the future data."
   ]
  },
  {
   "cell_type": "code",
   "execution_count": 21,
   "metadata": {},
   "outputs": [
    {
     "name": "stdout",
     "output_type": "stream",
     "text": [
      "_________________________________________________________________\n",
      "Layer (type)                 Output Shape              Param #   \n",
      "=================================================================\n",
      "bidirectional_5 (Bidirection (None, 21, 42)            2898      \n",
      "_________________________________________________________________\n",
      "bidirectional_6 (Bidirection (None, 21, 398)           288948    \n",
      "_________________________________________________________________\n",
      "activation_16 (Activation)   (None, 21, 398)           0         \n",
      "_________________________________________________________________\n",
      "time_distributed_23 (TimeDis (None, 21, 344)           137256    \n",
      "=================================================================\n",
      "Total params: 429,102\n",
      "Trainable params: 429,102\n",
      "Non-trainable params: 0\n",
      "_________________________________________________________________\n",
      "None\n",
      "Train on 110288 samples, validate on 27573 samples\n",
      "Epoch 1/10\n",
      "110288/110288 [==============================] - 39s - loss: 1.8073 - acc: 0.5736 - val_loss: nan - val_acc: 0.6410\n",
      "Epoch 2/10\n",
      "110288/110288 [==============================] - 38s - loss: 1.2161 - acc: 0.6579 - val_loss: nan - val_acc: 0.6656\n",
      "Epoch 3/10\n",
      "110288/110288 [==============================] - 38s - loss: 1.0518 - acc: 0.6877 - val_loss: nan - val_acc: 0.6979\n",
      "Epoch 4/10\n",
      "110288/110288 [==============================] - 38s - loss: 0.9590 - acc: 0.7058 - val_loss: nan - val_acc: 0.7150\n",
      "Epoch 5/10\n",
      "110288/110288 [==============================] - 38s - loss: 0.8936 - acc: 0.7187 - val_loss: nan - val_acc: 0.7326\n",
      "Epoch 6/10\n",
      "110288/110288 [==============================] - 38s - loss: 0.8763 - acc: 0.7206 - val_loss: nan - val_acc: 0.7164\n",
      "Epoch 7/10\n",
      "110288/110288 [==============================] - 38s - loss: 0.8394 - acc: 0.7298 - val_loss: nan - val_acc: 0.7474\n",
      "Epoch 8/10\n",
      "110288/110288 [==============================] - 38s - loss: 0.7586 - acc: 0.7551 - val_loss: nan - val_acc: 0.7681\n",
      "Epoch 9/10\n",
      "110288/110288 [==============================] - 38s - loss: 0.7518 - acc: 0.7547 - val_loss: nan - val_acc: 0.7408\n",
      "Epoch 10/10\n",
      "110288/110288 [==============================] - 38s - loss: 0.7041 - acc: 0.7680 - val_loss: nan - val_acc: 0.7602\n",
      "new jersey est parfois chaud au mois de il et il est en en <PAD> <PAD> <PAD> <PAD> <PAD> <PAD> <PAD>\n"
     ]
    }
   ],
   "source": [
    "from keras.layers import Bidirectional\n",
    "\n",
    "\n",
    "def bd_model(input_shape, output_sequence_length, english_vocab_size, french_vocab_size):\n",
    "    \"\"\"\n",
    "    Build and train a bidirectional RNN model on x and y\n",
    "    :param input_shape: Tuple of input shape\n",
    "    :param output_sequence_length: Length of output sequence\n",
    "    :param english_vocab_size: Number of unique English words in the dataset\n",
    "    :param french_vocab_size: Number of unique French words in the dataset\n",
    "    :return: Keras model built, but not trained\n",
    "    \"\"\"\n",
    "    # TODO: Implement\n",
    "    learning_rate = 0.01\n",
    "    \n",
    "    model = Sequential()\n",
    "    model.add(Bidirectional(GRU(output_sequence_length, return_sequences=True), input_shape=input_shape[1:]))\n",
    "    model.add(Bidirectional(GRU(english_vocab_size, return_sequences=True)))\n",
    "    model.add(Activation('relu'))\n",
    "    model.add(TimeDistributed(Dense(french_vocab_size, activation=\"softmax\")))\n",
    "    \n",
    "   \n",
    "    model.compile(loss=sparse_categorical_crossentropy,\n",
    "                  optimizer=Adam(learning_rate),\n",
    "                  metrics=['accuracy'])\n",
    "       \n",
    "    return model\n",
    "tests.test_bd_model(bd_model)\n",
    "\n",
    "# Reshaping the input\n",
    "tmp_x = pad(preproc_english_sentences, preproc_french_sentences.shape[1])\n",
    "tmp_x = tmp_x.reshape((-1, preproc_french_sentences.shape[-2], 1))\n",
    "\n",
    "# Train the neural network\n",
    "bidirectional_model = bd_model(\n",
    "    tmp_x.shape,\n",
    "    preproc_french_sentences.shape[1],\n",
    "    len(english_tokenizer.word_index),\n",
    "    len(french_tokenizer.word_index))\n",
    "\n",
    "print(bidirectional_model.summary())\n",
    "\n",
    "bidirectional_model.fit(tmp_x, preproc_french_sentences, batch_size=1024, epochs=10, validation_split=0.2)\n",
    "\n",
    "# Print prediction(s)\n",
    "print(logits_to_text(bidirectional_model.predict(tmp_x[:1])[0], french_tokenizer))"
   ]
  },
  {
   "cell_type": "markdown",
   "metadata": {},
   "source": [
    "### Model 4: Encoder-Decoder (OPTIONAL)\n",
    "Time to look at encoder-decoder models.  This model is made up of an encoder and decoder. The encoder creates a matrix representation of the sentence.  The decoder takes this matrix as input and predicts the translation as output.\n",
    "\n",
    "Create an encoder-decoder model in the cell below."
   ]
  },
  {
   "cell_type": "code",
   "execution_count": 33,
   "metadata": {},
   "outputs": [
    {
     "name": "stdout",
     "output_type": "stream",
     "text": [
      "(None, 21, 344)\n",
      "(None, 21, 344)\n",
      "_________________________________________________________________\n",
      "Layer (type)                 Output Shape              Param #   \n",
      "=================================================================\n",
      "gru_68 (GRU)                 (None, 21, 21)            1449      \n",
      "_________________________________________________________________\n",
      "gru_69 (GRU)                 (None, 199)               131937    \n",
      "_________________________________________________________________\n",
      "repeat_vector_11 (RepeatVect (None, 21, 199)           0         \n",
      "_________________________________________________________________\n",
      "gru_70 (GRU)                 (None, 21, 199)           238203    \n",
      "_________________________________________________________________\n",
      "time_distributed_34 (TimeDis (None, 21, 344)           68800     \n",
      "=================================================================\n",
      "Total params: 440,389\n",
      "Trainable params: 440,389\n",
      "Non-trainable params: 0\n",
      "_________________________________________________________________\n",
      "None\n",
      "Train on 110288 samples, validate on 27573 samples\n",
      "Epoch 1/10\n",
      "110288/110288 [==============================] - 34s - loss: 2.5125 - acc: 0.4756 - val_loss: nan - val_acc: 0.5478\n",
      "Epoch 2/10\n",
      "110288/110288 [==============================] - 32s - loss: 1.7484 - acc: 0.5629 - val_loss: nan - val_acc: 0.5942\n",
      "Epoch 3/10\n",
      "110288/110288 [==============================] - 32s - loss: 1.3873 - acc: 0.6157 - val_loss: nan - val_acc: 0.6315\n",
      "Epoch 4/10\n",
      "110288/110288 [==============================] - 32s - loss: 1.2644 - acc: 0.6391 - val_loss: nan - val_acc: 0.6454\n",
      "Epoch 5/10\n",
      "110288/110288 [==============================] - 32s - loss: 1.3093 - acc: 0.6296 - val_loss: nan - val_acc: 0.6343\n",
      "Epoch 6/10\n",
      "110288/110288 [==============================] - 32s - loss: 1.2259 - acc: 0.6445 - val_loss: nan - val_acc: 0.6544\n",
      "Epoch 7/10\n",
      "110288/110288 [==============================] - 32s - loss: 1.1945 - acc: 0.6522 - val_loss: nan - val_acc: 0.6597\n",
      "Epoch 8/10\n",
      "110288/110288 [==============================] - 32s - loss: 1.1831 - acc: 0.6558 - val_loss: nan - val_acc: 0.6474\n",
      "Epoch 9/10\n",
      "110288/110288 [==============================] - 32s - loss: 1.1511 - acc: 0.6643 - val_loss: nan - val_acc: 0.6714\n",
      "Epoch 10/10\n",
      "110288/110288 [==============================] - 32s - loss: 1.1856 - acc: 0.6573 - val_loss: nan - val_acc: 0.6696\n",
      "new jersey est parfois agréable en l' mais il est il en en <PAD> <PAD> <PAD> <PAD> <PAD> <PAD> <PAD> <PAD>\n"
     ]
    }
   ],
   "source": [
    "from keras.layers import RepeatVector\n",
    "\n",
    "\n",
    "def encdec_model(input_shape, output_sequence_length, english_vocab_size, french_vocab_size):\n",
    "    \"\"\"\n",
    "    Build and train an encoder-decoder model on x and y\n",
    "    :param input_shape: Tuple of input shape\n",
    "    :param output_sequence_length: Length of output sequence\n",
    "    :param english_vocab_size: Number of unique English words in the dataset\n",
    "    :param french_vocab_size: Number of unique French words in the dataset\n",
    "    :return: Keras model built, but not trained\n",
    "    \"\"\"\n",
    "    # OPTIONAL: Implement\n",
    "    learning_rate = 0.01\n",
    "    model = Sequential()\n",
    "    model.add(GRU(output_sequence_length, input_shape=input_shape[1:], return_sequences=True))\n",
    "    model.add(GRU(english_vocab_size))\n",
    "    model.add(RepeatVector(output_sequence_length))\n",
    "    model.add(GRU(english_vocab_size, return_sequences=True))\n",
    "    model.add(TimeDistributed(Dense(french_vocab_size, activation=\"softmax\")))\n",
    "\n",
    "    model.compile(loss=sparse_categorical_crossentropy,\n",
    "                  optimizer=Adam(learning_rate),\n",
    "                  metrics=['accuracy'])\n",
    "    \n",
    "    return model\n",
    "tests.test_encdec_model(encdec_model)\n",
    "\n",
    "# OPTIONAL: Train and Print prediction(s)\n",
    "\n",
    "# Reshaping the input to work\n",
    "tmp_x = pad(preproc_english_sentences, preproc_french_sentences.shape[1])\n",
    "tmp_x = tmp_x.reshape((-1, preproc_french_sentences.shape[-2], 1))\n",
    "\n",
    "# Train the neural network\n",
    "encdecoder_model = encdec_model(\n",
    "    tmp_x.shape,\n",
    "    preproc_french_sentences.shape[1],\n",
    "    len(english_tokenizer.word_index),\n",
    "    len(french_tokenizer.word_index))\n",
    "\n",
    "print(encdecoder_model.summary())\n",
    "\n",
    "encdecoder_model.fit(tmp_x, preproc_french_sentences, batch_size=1024, epochs=10, validation_split=0.2)\n",
    "\n",
    "# Print prediction(s)\n",
    "print(logits_to_text(encdecoder_model.predict(tmp_x[:1])[0], french_tokenizer))"
   ]
  },
  {
   "cell_type": "markdown",
   "metadata": {},
   "source": [
    "### Model 5: Custom (IMPLEMENTATION)\n",
    "Use everything you learned from the previous models to create a model that incorporates embedding and a bidirectional rnn into one model."
   ]
  },
  {
   "cell_type": "code",
   "execution_count": 35,
   "metadata": {},
   "outputs": [
    {
     "name": "stdout",
     "output_type": "stream",
     "text": [
      "Final Model Loaded\n"
     ]
    }
   ],
   "source": [
    "def model_final(input_shape, output_sequence_length, english_vocab_size, french_vocab_size):\n",
    "    \"\"\"\n",
    "    Build and train a model that incorporates embedding, encoder-decoder, and bidirectional RNN on x and y\n",
    "    :param input_shape: Tuple of input shape\n",
    "    :param output_sequence_length: Length of output sequence\n",
    "    :param english_vocab_size: Number of unique English words in the dataset\n",
    "    :param french_vocab_size: Number of unique French words in the dataset\n",
    "    :return: Keras model built, but not trained\n",
    "    \"\"\"\n",
    "    # TODO: Implement\n",
    "    embed_size = 30\n",
    "    learning_rate = 0.01\n",
    "    \n",
    "    model = Sequential()\n",
    "    model.add(Embedding(english_vocab_size, embed_size, input_shape=input_shape[1:]))\n",
    "    model.add(Bidirectional(GRU(output_sequence_length, return_sequences=True)))    \n",
    "    model.add(GRU(english_vocab_size))\n",
    "    model.add(RepeatVector(output_sequence_length))\n",
    "    model.add(GRU(english_vocab_size, return_sequences=True))\n",
    "    model.add(TimeDistributed(Dense(french_vocab_size, activation=\"softmax\")))\n",
    "    \n",
    "    model.compile(loss=sparse_categorical_crossentropy,\n",
    "                  optimizer=Adam(learning_rate),\n",
    "                  metrics=['accuracy'])\n",
    "\n",
    "    return model\n",
    "tests.test_model_final(model_final)\n",
    "\n",
    "\n",
    "print('Final Model Loaded')"
   ]
  },
  {
   "cell_type": "markdown",
   "metadata": {},
   "source": [
    "## Prediction (IMPLEMENTATION)"
   ]
  },
  {
   "cell_type": "code",
   "execution_count": 40,
   "metadata": {},
   "outputs": [
    {
     "name": "stdout",
     "output_type": "stream",
     "text": [
      "_________________________________________________________________\n",
      "Layer (type)                 Output Shape              Param #   \n",
      "=================================================================\n",
      "embedding_20 (Embedding)     (None, 21, 30)            5970      \n",
      "_________________________________________________________________\n",
      "bidirectional_12 (Bidirectio (None, 21, 42)            6552      \n",
      "_________________________________________________________________\n",
      "gru_87 (GRU)                 (None, 199)               144474    \n",
      "_________________________________________________________________\n",
      "repeat_vector_17 (RepeatVect (None, 21, 199)           0         \n",
      "_________________________________________________________________\n",
      "gru_88 (GRU)                 (None, 21, 199)           238203    \n",
      "_________________________________________________________________\n",
      "time_distributed_40 (TimeDis (None, 21, 344)           68800     \n",
      "=================================================================\n",
      "Total params: 463,999\n",
      "Trainable params: 463,999\n",
      "Non-trainable params: 0\n",
      "_________________________________________________________________\n",
      "None\n",
      "Train on 110288 samples, validate on 27573 samples\n",
      "Epoch 1/25\n",
      "110288/110288 [==============================] - 39s - loss: 2.8525 - acc: 0.4395 - val_loss: nan - val_acc: 0.5151\n",
      "Epoch 2/25\n",
      "110288/110288 [==============================] - 37s - loss: 1.7374 - acc: 0.5545 - val_loss: nan - val_acc: 0.6055\n",
      "Epoch 3/25\n",
      "110288/110288 [==============================] - 37s - loss: 1.3431 - acc: 0.6282 - val_loss: nan - val_acc: 0.6676\n",
      "Epoch 4/25\n",
      "110288/110288 [==============================] - 37s - loss: 1.1044 - acc: 0.6839 - val_loss: nan - val_acc: 0.6426\n",
      "Epoch 5/25\n",
      "110288/110288 [==============================] - 37s - loss: 0.9476 - acc: 0.7194 - val_loss: nan - val_acc: 0.7424\n",
      "Epoch 6/25\n",
      "110288/110288 [==============================] - 37s - loss: 0.7976 - acc: 0.7560 - val_loss: nan - val_acc: 0.7716\n",
      "Epoch 7/25\n",
      "110288/110288 [==============================] - 37s - loss: 0.7197 - acc: 0.7787 - val_loss: nan - val_acc: 0.7883\n",
      "Epoch 8/25\n",
      "110288/110288 [==============================] - 37s - loss: 0.5875 - acc: 0.8155 - val_loss: nan - val_acc: 0.8316\n",
      "Epoch 9/25\n",
      "110288/110288 [==============================] - 37s - loss: 0.5114 - acc: 0.8388 - val_loss: nan - val_acc: 0.8523\n",
      "Epoch 10/25\n",
      "110288/110288 [==============================] - 37s - loss: 0.4479 - acc: 0.8590 - val_loss: nan - val_acc: 0.8678\n",
      "Epoch 11/25\n",
      "110288/110288 [==============================] - 37s - loss: 0.4120 - acc: 0.8700 - val_loss: nan - val_acc: 0.8617\n",
      "Epoch 12/25\n",
      "110288/110288 [==============================] - 37s - loss: 0.3391 - acc: 0.8950 - val_loss: nan - val_acc: 0.9005\n",
      "Epoch 13/25\n",
      "110288/110288 [==============================] - 37s - loss: 0.2791 - acc: 0.9150 - val_loss: nan - val_acc: 0.9197\n",
      "Epoch 14/25\n",
      "110288/110288 [==============================] - 37s - loss: 0.2354 - acc: 0.9288 - val_loss: nan - val_acc: 0.9313\n",
      "Epoch 15/25\n",
      "110288/110288 [==============================] - 37s - loss: 0.2173 - acc: 0.9366 - val_loss: nan - val_acc: 0.9065\n",
      "Epoch 16/25\n",
      "110288/110288 [==============================] - 37s - loss: 0.3237 - acc: 0.9057 - val_loss: nan - val_acc: 0.9334\n",
      "Epoch 17/25\n",
      "110288/110288 [==============================] - 37s - loss: 0.2196 - acc: 0.9392 - val_loss: nan - val_acc: 0.9336\n",
      "Epoch 18/25\n",
      "110288/110288 [==============================] - 37s - loss: 0.1947 - acc: 0.9456 - val_loss: nan - val_acc: 0.9402\n",
      "Epoch 19/25\n",
      "110288/110288 [==============================] - 37s - loss: 0.2217 - acc: 0.9370 - val_loss: nan - val_acc: 0.9328\n",
      "Epoch 20/25\n",
      "110288/110288 [==============================] - 37s - loss: 0.1995 - acc: 0.9438 - val_loss: nan - val_acc: 0.9546\n",
      "Epoch 21/25\n",
      "110288/110288 [==============================] - 37s - loss: 0.1647 - acc: 0.9542 - val_loss: nan - val_acc: 0.9460\n",
      "Epoch 22/25\n",
      "110288/110288 [==============================] - 37s - loss: 0.1718 - acc: 0.9510 - val_loss: nan - val_acc: 0.9559\n",
      "Epoch 23/25\n",
      "110288/110288 [==============================] - 37s - loss: 0.2462 - acc: 0.9330 - val_loss: nan - val_acc: 0.9024\n",
      "Epoch 24/25\n",
      "110288/110288 [==============================] - 37s - loss: 0.2421 - acc: 0.9293 - val_loss: nan - val_acc: 0.9497\n",
      "Epoch 25/25\n",
      "110288/110288 [==============================] - 37s - loss: 0.1588 - acc: 0.9546 - val_loss: nan - val_acc: 0.9526\n",
      "Sample 1:\n",
      "il a vu un vieux camion jaune <PAD> <PAD> <PAD> <PAD> <PAD> <PAD> <PAD> <PAD> <PAD> <PAD> <PAD> <PAD> <PAD> <PAD>\n",
      "Il a vu un vieux camion jaune\n",
      "Sample 2:\n",
      "new jersey est parfois calme pendant l'automne et et est est en en avril <PAD> <PAD> <PAD> <PAD> <PAD> <PAD> <PAD>\n",
      "<PAD> <PAD> <PAD> <PAD> <PAD> <PAD> <PAD> <PAD> <PAD> <PAD> <PAD> <PAD> <PAD> <PAD> <PAD> <PAD> <PAD> <PAD> <PAD> <PAD> <PAD>\n"
     ]
    }
   ],
   "source": [
    "import numpy as np\n",
    "from keras.preprocessing.sequence import pad_sequences\n",
    "\n",
    "\n",
    "def final_predictions(x, y, x_tk, y_tk):\n",
    "    \"\"\"\n",
    "    Gets predictions using the final model\n",
    "    :param x: Preprocessed English data\n",
    "    :param y: Preprocessed French data\n",
    "    :param x_tk: English tokenizer\n",
    "    :param y_tk: French tokenizer\n",
    "    \"\"\"\n",
    "    # TODO: Train neural network using model_final  \n",
    "\n",
    "    x = pad(x, y.shape[1])\n",
    "\n",
    "    # Train the neural network\n",
    "    model = model_final(\n",
    "        x.shape,\n",
    "        y.shape[1],\n",
    "        len(x_tk.word_index),\n",
    "        len(y_tk.word_index))\n",
    "\n",
    "    print(model.summary())\n",
    "\n",
    "    model.fit(x, y, batch_size=1024, epochs=25, validation_split=0.2)\n",
    "\n",
    "    \n",
    "    ## DON'T EDIT ANYTHING BELOW THIS LINE\n",
    "    y_id_to_word = {value: key for key, value in y_tk.word_index.items()}\n",
    "    y_id_to_word[0] = '<PAD>'\n",
    "\n",
    "    sentence = 'he saw a old yellow truck'\n",
    "    sentence = [x_tk.word_index[word] for word in sentence.split()]\n",
    "    sentence = pad_sequences([sentence], maxlen=x.shape[-1], padding='post')\n",
    "    sentences = np.array([sentence[0], x[0]])\n",
    "    predictions = model.predict(sentences, len(sentences))\n",
    "\n",
    "    print('Sample 1:')\n",
    "    print(' '.join([y_id_to_word[np.argmax(x)] for x in predictions[0]]))\n",
    "    print('Il a vu un vieux camion jaune')\n",
    "    print('Sample 2:')\n",
    "    print(' '.join([y_id_to_word[np.argmax(x)] for x in predictions[1]]))\n",
    "    print(' '.join([y_id_to_word[np.argmax(x)] for x in y[0]]))\n",
    "\n",
    "\n",
    "final_predictions(preproc_english_sentences, preproc_french_sentences, english_tokenizer, french_tokenizer)"
   ]
  },
  {
   "cell_type": "markdown",
   "metadata": {},
   "source": [
    "## Submission\n",
    "When you are ready to submit your project, do the following steps:\n",
    "1. Ensure you pass all points on the [rubric](https://review.udacity.com/#!/rubrics/1004/view).\n",
    "2. Submit the following in a zip file.\n",
    "  - `helper.py`\n",
    "  - `machine_translation.ipynb`\n",
    "  - `machine_translation.html`\n",
    "    - You can export the notebook by navigating to **File -> Download as -> HTML (.html)**."
   ]
  }
 ],
 "metadata": {
  "anaconda-cloud": {},
  "kernelspec": {
   "display_name": "Python 3",
   "language": "python",
   "name": "python3"
  },
  "language_info": {
   "codemirror_mode": {
    "name": "ipython",
    "version": 3
   },
   "file_extension": ".py",
   "mimetype": "text/x-python",
   "name": "python",
   "nbconvert_exporter": "python",
   "pygments_lexer": "ipython3",
   "version": "3.6.1"
  }
 },
 "nbformat": 4,
 "nbformat_minor": 1
}
